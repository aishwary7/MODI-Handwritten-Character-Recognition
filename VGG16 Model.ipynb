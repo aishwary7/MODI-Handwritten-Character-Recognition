{
 "cells": [
  {
   "cell_type": "code",
   "execution_count": 1,
   "id": "0f2b9d60",
   "metadata": {},
   "outputs": [],
   "source": [
    "import numpy as np\n",
    "import pandas as pd\n",
    "import tensorflow as tf\n",
    "from keras.preprocessing.image import ImageDataGenerator\n",
    "import matplotlib.pyplot as plt\n",
    "import glob\n",
    "import cv2\n",
    "from keras.models import Model, Sequential\n",
    "from keras.layers import Dense, Flatten, Conv2D, MaxPooling2D, BatchNormalization, Dropout\n",
    "import os\n",
    "import seaborn as sns\n",
    "from keras.applications.vgg16 import VGG16 "
   ]
  },
  {
   "cell_type": "code",
   "execution_count": 2,
   "id": "d8167a17",
   "metadata": {},
   "outputs": [
    {
     "data": {
      "text/plain": [
       "'2.9.1'"
      ]
     },
     "execution_count": 2,
     "metadata": {},
     "output_type": "execute_result"
    }
   ],
   "source": [
    "tf.__version__"
   ]
  },
  {
   "cell_type": "code",
   "execution_count": 3,
   "id": "e88fd3f6",
   "metadata": {},
   "outputs": [],
   "source": [
    "SIZE=128\n",
    "train_images = []\n",
    "train_labels = [] \n",
    "for directory_path in glob.glob(\"dataset/training_set/*\"):\n",
    "    label = directory_path.split(\"\\\\\")[-1]\n",
    "    for img_path in glob.glob(os.path.join(directory_path, \"*.png\")): \n",
    "        img = cv2.imread(img_path, cv2.IMREAD_COLOR)       \n",
    "        img = cv2.resize(img, (SIZE, SIZE))\n",
    "        img = cv2.cvtColor(img, cv2.COLOR_RGB2BGR)\n",
    "        img = cv2.GaussianBlur(img, (3,3), 0)\n",
    "        train_images.append(img)\n",
    "        train_labels.append(label)\n",
    "train_images = np.array(train_images)\n",
    "train_labels = np.array(train_labels)"
   ]
  },
  {
   "cell_type": "code",
   "execution_count": 4,
   "id": "b0083795",
   "metadata": {},
   "outputs": [],
   "source": [
    "test_images = []\n",
    "test_labels = [] \n",
    "for directory_path in glob.glob(\"dataset/test_set/*\"):\n",
    "    test_label = directory_path.split(\"\\\\\")[-1]\n",
    "    for img_path in glob.glob(os.path.join(directory_path, \"*.png\")):\n",
    "        img = cv2.imread(img_path, cv2.IMREAD_COLOR)\n",
    "        img = cv2.resize(img, (SIZE, SIZE))\n",
    "        img = cv2.cvtColor(img, cv2.COLOR_RGB2BGR)\n",
    "        img = cv2.GaussianBlur(img, (3,3), 0)\n",
    "        test_images.append(img)\n",
    "        test_labels.append(test_label)\n",
    "test_images = np.array(test_images)\n",
    "test_labels = np.array(test_labels)"
   ]
  },
  {
   "cell_type": "code",
   "execution_count": 5,
   "id": "3cb46a62",
   "metadata": {},
   "outputs": [],
   "source": [
    "#Encode labels from text to integers.\n",
    "from sklearn import preprocessing\n",
    "le = preprocessing.LabelEncoder()\n",
    "le.fit(test_labels)\n",
    "test_labels_encoded = le.transform(test_labels)\n",
    "le.fit(train_labels)\n",
    "train_labels_encoded = le.transform(train_labels)\n",
    "\n",
    "#Split data into test and train datasets \n",
    "x_train, y_train, x_test, y_test = train_images, train_labels_encoded, test_images, test_labels_encoded"
   ]
  },
  {
   "cell_type": "code",
   "execution_count": 6,
   "id": "40511a96",
   "metadata": {},
   "outputs": [],
   "source": [
    "# Normalize pixel values to between 0 and 1\n",
    "x_train, x_test = x_train / 255.0, x_test / 255.0\n",
    "\n",
    "#One hot encoding y values for neural network. \n",
    "from keras.utils import to_categorical\n",
    "y_train_one_hot = to_categorical(y_train)\n",
    "y_test_one_hot = to_categorical(y_test)"
   ]
  },
  {
   "cell_type": "markdown",
   "id": "fc2c1145",
   "metadata": {},
   "source": [
    "# VGG "
   ]
  },
  {
   "cell_type": "code",
   "execution_count": 7,
   "id": "a590dc5c",
   "metadata": {},
   "outputs": [
    {
     "name": "stdout",
     "output_type": "stream",
     "text": [
      "Model: \"vgg16\"\n",
      "_________________________________________________________________\n",
      " Layer (type)                Output Shape              Param #   \n",
      "=================================================================\n",
      " input_1 (InputLayer)        [(None, 128, 128, 3)]     0         \n",
      "                                                                 \n",
      " block1_conv1 (Conv2D)       (None, 128, 128, 64)      1792      \n",
      "                                                                 \n",
      " block1_conv2 (Conv2D)       (None, 128, 128, 64)      36928     \n",
      "                                                                 \n",
      " block1_pool (MaxPooling2D)  (None, 64, 64, 64)        0         \n",
      "                                                                 \n",
      " block2_conv1 (Conv2D)       (None, 64, 64, 128)       73856     \n",
      "                                                                 \n",
      " block2_conv2 (Conv2D)       (None, 64, 64, 128)       147584    \n",
      "                                                                 \n",
      " block2_pool (MaxPooling2D)  (None, 32, 32, 128)       0         \n",
      "                                                                 \n",
      " block3_conv1 (Conv2D)       (None, 32, 32, 256)       295168    \n",
      "                                                                 \n",
      " block3_conv2 (Conv2D)       (None, 32, 32, 256)       590080    \n",
      "                                                                 \n",
      " block3_conv3 (Conv2D)       (None, 32, 32, 256)       590080    \n",
      "                                                                 \n",
      " block3_pool (MaxPooling2D)  (None, 16, 16, 256)       0         \n",
      "                                                                 \n",
      " block4_conv1 (Conv2D)       (None, 16, 16, 512)       1180160   \n",
      "                                                                 \n",
      " block4_conv2 (Conv2D)       (None, 16, 16, 512)       2359808   \n",
      "                                                                 \n",
      " block4_conv3 (Conv2D)       (None, 16, 16, 512)       2359808   \n",
      "                                                                 \n",
      " block4_pool (MaxPooling2D)  (None, 8, 8, 512)         0         \n",
      "                                                                 \n",
      " block5_conv1 (Conv2D)       (None, 8, 8, 512)         2359808   \n",
      "                                                                 \n",
      " block5_conv2 (Conv2D)       (None, 8, 8, 512)         2359808   \n",
      "                                                                 \n",
      " block5_conv3 (Conv2D)       (None, 8, 8, 512)         2359808   \n",
      "                                                                 \n",
      " block5_pool (MaxPooling2D)  (None, 4, 4, 512)         0         \n",
      "                                                                 \n",
      "=================================================================\n",
      "Total params: 14,714,688\n",
      "Trainable params: 0\n",
      "Non-trainable params: 14,714,688\n",
      "_________________________________________________________________\n"
     ]
    }
   ],
   "source": [
    "#Load model without classifier/fully connected layers\n",
    "VGG_model = VGG16(weights='imagenet', include_top=False, input_shape=(SIZE, SIZE, 3))\n",
    "for layer in VGG_model.layers:\n",
    "\tlayer.trainable = False\n",
    "VGG_model.summary()  #Trainable parameters will be 0"
   ]
  },
  {
   "cell_type": "markdown",
   "id": "23f00bdc",
   "metadata": {},
   "source": [
    "# Random Forest"
   ]
  },
  {
   "cell_type": "code",
   "execution_count": null,
   "id": "46c276be",
   "metadata": {},
   "outputs": [],
   "source": [
    "feature_extractor=VGG_model.predict(x_train)\n",
    "features = feature_extractor.reshape(feature_extractor.shape[0], -1)\n",
    "\n",
    "X_for_RF = features \n",
    "from sklearn.ensemble import RandomForestClassifier\n",
    "RF_model = RandomForestClassifier(n_estimators = 100,random_state = 42) \n",
    "\n",
    "# Train the model on training data\n",
    "RF_model.fit(X_for_RF, y_train)\n",
    "#Send test data through same feature extractor process\n",
    "X_test_feature = VGG_model.predict(x_test)\n",
    "X_test_features = X_test_feature.reshape(X_test_feature.shape[0], -1)\n",
    "\n",
    "#Predict using the trained RF model. \n",
    "prediction_RF = RF_model.predict(X_test_features)\n",
    "prediction_RF = le.inverse_transform(prediction_RF)\n",
    "\n",
    "from sklearn import metrics\n",
    "print (\"Accuracy = \", metrics.accuracy_score(test_labels, prediction_RF))\n",
    "print(\"F1 score (micro) = \", metrics.f1_score(test_labels, prediction_RF, average='micro'))\n",
    "print(\"F1 score (macro) = \", metrics.f1_score(test_labels, prediction_RF, average='macro'))\n",
    "print(\"F1 score (weighted) = \", metrics.f1_score(test_labels, prediction_RF, average='weighted'))\n",
    "\n",
    "print(\"Precision (micro) = \", metrics.precision_score(test_labels, prediction_RF, average='micro'))\n",
    "print(\"Precision (macro) = \", metrics.precision_score(test_labels, prediction_RF, average='macro'))\n",
    "print(\"Precision (weighted) = \", metrics.precision_score(test_labels, prediction_RF, average='weighted'))\n",
    "\n",
    "print(\"Recall (micro) = \", metrics.recall_score(test_labels, prediction_RF, average='micro'))\n",
    "print(\"Recall (macro) = \", metrics.recall_score(test_labels, prediction_RF, average='macro'))\n",
    "print(\"Recall (weighted) = \", metrics.recall_score(test_labels, prediction_RF, average='weighted'))\n",
    "\n",
    "print(\"Confusion Matrix = \",metrics.confusion_matrix(test_labels, prediction_RF))"
   ]
  },
  {
   "cell_type": "markdown",
   "id": "18da889a",
   "metadata": {},
   "source": [
    "# XGBoost"
   ]
  },
  {
   "cell_type": "code",
   "execution_count": null,
   "id": "5b21d9ce",
   "metadata": {},
   "outputs": [],
   "source": [
    "pip install xgboost  "
   ]
  },
  {
   "cell_type": "code",
   "execution_count": null,
   "id": "8933644f",
   "metadata": {},
   "outputs": [],
   "source": [
    "feature_extractor=VGG_model.predict(x_train)\n",
    "features = feature_extractor.reshape(feature_extractor.shape[0], -1)\n",
    "X_for_training = features\n",
    "\n",
    "import xgboost as xgb\n",
    "model = xgb.XGBClassifier()\n",
    "model.fit(X_for_training, y_train) \n",
    "\n",
    "#Send test data through same feature extractor process\n",
    "X_test_feature = VGG_model.predict(x_test)\n",
    "X_test_features = X_test_feature.reshape(X_test_feature.shape[0], -1)\n",
    "\n",
    "#Predict using the trained RF model. \n",
    "prediction = model.predict(X_test_features) \n",
    "prediction = le.inverse_transform(prediction)\n",
    "\n",
    "from sklearn import metrics\n",
    "print (\"Accuracy = \", metrics.accuracy_score(test_labels, prediction))\n",
    "print(\"F1 score (micro) = \", metrics.f1_score(test_labels, prediction, average='micro'))\n",
    "print(\"F1 score (macro) = \", metrics.f1_score(test_labels, prediction, average='macro'))\n",
    "print(\"F1 score (weighted) = \", metrics.f1_score(test_labels, prediction, average='weighted'))\n",
    "\n",
    "print(\"Precision (micro) = \", metrics.precision_score(test_labels, prediction, average='micro'))\n",
    "print(\"Precision (macro) = \", metrics.precision_score(test_labels, prediction, average='macro'))\n",
    "print(\"Precision (weighted) = \", metrics.precision_score(test_labels, prediction, average='weighted'))\n",
    "\n",
    "print(\"Recall (micro) = \", metrics.recall_score(test_labels, prediction, average='micro'))\n",
    "print(\"Recall (macro) = \", metrics.recall_score(test_labels, prediction, average='macro'))\n",
    "print(\"Recall (weighted) = \", metrics.recall_score(test_labels, prediction, average='weighted'))\n",
    "print(\"Confusion Matrix = \",metrics.confusion_matrix(test_labels, prediction))"
   ]
  }
 ],
 "metadata": {
  "kernelspec": {
   "display_name": "Python 3 (ipykernel)",
   "language": "python",
   "name": "python3"
  },
  "language_info": {
   "codemirror_mode": {
    "name": "ipython",
    "version": 3
   },
   "file_extension": ".py",
   "mimetype": "text/x-python",
   "name": "python",
   "nbconvert_exporter": "python",
   "pygments_lexer": "ipython3",
   "version": "3.9.12"
  }
 },
 "nbformat": 4,
 "nbformat_minor": 5
}
